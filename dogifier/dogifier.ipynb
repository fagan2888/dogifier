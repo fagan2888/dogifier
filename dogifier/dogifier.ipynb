{
 "cells": [
  {
   "cell_type": "code",
   "execution_count": 1,
   "metadata": {},
   "outputs": [
    {
     "name": "stderr",
     "output_type": "stream",
     "text": [
      "Using TensorFlow backend.\n",
      "/Users/gustavoarriaga/opt/anaconda3/envs/breedr/lib/python3.7/site-packages/tensorflow/python/framework/dtypes.py:526: FutureWarning: Passing (type, 1) or '1type' as a synonym of type is deprecated; in a future version of numpy, it will be understood as (type, (1,)) / '(1,)type'.\n",
      "  _np_qint8 = np.dtype([(\"qint8\", np.int8, 1)])\n",
      "/Users/gustavoarriaga/opt/anaconda3/envs/breedr/lib/python3.7/site-packages/tensorflow/python/framework/dtypes.py:527: FutureWarning: Passing (type, 1) or '1type' as a synonym of type is deprecated; in a future version of numpy, it will be understood as (type, (1,)) / '(1,)type'.\n",
      "  _np_quint8 = np.dtype([(\"quint8\", np.uint8, 1)])\n",
      "/Users/gustavoarriaga/opt/anaconda3/envs/breedr/lib/python3.7/site-packages/tensorflow/python/framework/dtypes.py:528: FutureWarning: Passing (type, 1) or '1type' as a synonym of type is deprecated; in a future version of numpy, it will be understood as (type, (1,)) / '(1,)type'.\n",
      "  _np_qint16 = np.dtype([(\"qint16\", np.int16, 1)])\n",
      "/Users/gustavoarriaga/opt/anaconda3/envs/breedr/lib/python3.7/site-packages/tensorflow/python/framework/dtypes.py:529: FutureWarning: Passing (type, 1) or '1type' as a synonym of type is deprecated; in a future version of numpy, it will be understood as (type, (1,)) / '(1,)type'.\n",
      "  _np_quint16 = np.dtype([(\"quint16\", np.uint16, 1)])\n",
      "/Users/gustavoarriaga/opt/anaconda3/envs/breedr/lib/python3.7/site-packages/tensorflow/python/framework/dtypes.py:530: FutureWarning: Passing (type, 1) or '1type' as a synonym of type is deprecated; in a future version of numpy, it will be understood as (type, (1,)) / '(1,)type'.\n",
      "  _np_qint32 = np.dtype([(\"qint32\", np.int32, 1)])\n",
      "/Users/gustavoarriaga/opt/anaconda3/envs/breedr/lib/python3.7/site-packages/tensorflow/python/framework/dtypes.py:535: FutureWarning: Passing (type, 1) or '1type' as a synonym of type is deprecated; in a future version of numpy, it will be understood as (type, (1,)) / '(1,)type'.\n",
      "  np_resource = np.dtype([(\"resource\", np.ubyte, 1)])\n"
     ]
    }
   ],
   "source": [
    "from keras.preprocessing import image\n",
    "from keras import backend\n",
    "\n",
    "def path_to_tensor(img_path):\n",
    "    # load RGB image as PIL.Image.Image type\n",
    "    img = image.load_img(img_path, target_size=(224, 224))\n",
    "    # convert PIL.Image.Image type to 3D tensor with shape (224, 224, 3)\n",
    "    x = image.img_to_array(img)\n",
    "    # convert 3D tensor to 4D tensor with shape (1, 224, 224, 3) and return 4D tensor\n",
    "    return np.expand_dims(x, axis=0)"
   ]
  },
  {
   "cell_type": "markdown",
   "metadata": {},
   "source": [
    "Using the InceptionV3 bottleneck features to classify dog breeds: https://s3-us-west-1.amazonaws.com/udacity-aind/dog-project/DogInceptionV3Data.npz"
   ]
  },
  {
   "cell_type": "code",
   "execution_count": 2,
   "metadata": {},
   "outputs": [],
   "source": [
    "# obtain bottleneck features from another pre-trained CNN.\n",
    "from keras.utils import np_utils\n",
    "import numpy as np\n",
    "\n",
    "# load bottleneck features from InceptionV3\n",
    "bottleneck_features = np.load('./DogInceptionV3Data.npz')\n",
    "# split data into training, validation and testing sets\n",
    "train_InceptionV3 = bottleneck_features['train']\n",
    "valid_InceptionV3 = bottleneck_features['valid']\n",
    "test_InceptionV3 = bottleneck_features['test']"
   ]
  },
  {
   "cell_type": "code",
   "execution_count": 3,
   "metadata": {},
   "outputs": [
    {
     "name": "stdout",
     "output_type": "stream",
     "text": [
      "WARNING:tensorflow:From /Users/gustavoarriaga/opt/anaconda3/envs/breedr/lib/python3.7/site-packages/tensorflow/python/keras/layers/core.py:143: calling dropout (from tensorflow.python.ops.nn_ops) with keep_prob is deprecated and will be removed in a future version.\n",
      "Instructions for updating:\n",
      "Please use `rate` instead of `keep_prob`. Rate should be set to `rate = 1 - keep_prob`.\n",
      "WARNING:tensorflow:From /Users/gustavoarriaga/opt/anaconda3/envs/breedr/lib/python3.7/site-packages/tensorflow/python/ops/control_flow_ops.py:423: colocate_with (from tensorflow.python.framework.ops) is deprecated and will be removed in a future version.\n",
      "Instructions for updating:\n",
      "Colocations handled automatically by placer.\n"
     ]
    }
   ],
   "source": [
    "from tensorflow.keras.layers import GlobalAveragePooling2D\n",
    "from tensorflow.keras.layers import Dropout, Dense\n",
    "from tensorflow.keras.models import Sequential\n",
    "\n",
    "# define model architecture.\n",
    "doggy_model = Sequential()\n",
    "doggy_model.add(GlobalAveragePooling2D(input_shape=train_InceptionV3.shape[1:]))\n",
    "doggy_model.add(Dropout(.2))\n",
    "doggy_model.add(Dense(64, activation='relu'))\n",
    "doggy_model.add(Dropout(.1))\n",
    "doggy_model.add(Dense(133, activation='softmax'))"
   ]
  },
  {
   "cell_type": "code",
   "execution_count": 4,
   "metadata": {},
   "outputs": [],
   "source": [
    "# load the model weights with the best validation loss in prior training\n",
    "doggy_model.load_weights('./weights.best.doggy_model2.hdf5')"
   ]
  },
  {
   "cell_type": "code",
   "execution_count": 5,
   "metadata": {},
   "outputs": [
    {
     "name": "stdout",
     "output_type": "stream",
     "text": [
      "Test accuracy: 83.2536%\n"
     ]
    }
   ],
   "source": [
    "from sklearn.datasets import load_files       \n",
    "from keras.utils import np_utils\n",
    "import numpy as np\n",
    "from glob import glob\n",
    "\n",
    "# function to load train, test, and validation datasets\n",
    "def load_dataset(path):\n",
    "    data = load_files(path)\n",
    "    dog_files = np.array(data['filenames'])\n",
    "    dog_targets = np_utils.to_categorical(np.array(data['target']), 133)\n",
    "    return dog_files, dog_targets\n",
    "\n",
    "# set up train, test, and validation datasets\n",
    "train_files, train_targets = load_dataset('./dogImages/train')\n",
    "valid_files, valid_targets = load_dataset('./dogImages/valid')\n",
    "test_files, test_targets = load_dataset('./dogImages/test')\n",
    "\n",
    "# calculate classification accuracy on the test dataset\n",
    "doggy_predictions = [np.argmax(doggy_model.predict(np.expand_dims(feature, axis=0))) for feature in test_InceptionV3]\n",
    "\n",
    "# report test accuracy\n",
    "test_accuracy = 100*np.sum(np.array(doggy_predictions)==np.argmax(test_targets, axis=1))/len(doggy_predictions)\n",
    "print('Test accuracy: %.4f%%' % test_accuracy)"
   ]
  },
  {
   "cell_type": "code",
   "execution_count": 6,
   "metadata": {},
   "outputs": [],
   "source": [
    "# load list of dog names\n",
    "dog_names = sorted(glob(\"./dogImages/train/*/\"))\n",
    "\n",
    "# function that extracts weights from InceptionV3 for tensor provided\n",
    "def extract_InceptionV3(tensor):\n",
    "    from keras.applications.inception_v3 import InceptionV3, preprocess_input\n",
    "    return InceptionV3(weights='imagenet', include_top=False).predict(preprocess_input(tensor))\n",
    "\n",
    "# function that takes a path to an image as input and returns the dog breed that is predicted by the model\n",
    "def doggy_predict_breed(img_path):\n",
    "    # extract bottleneck features\n",
    "    bottleneck_feature = extract_InceptionV3(path_to_tensor(img_path))\n",
    "    # obtain predicted vector from extracted bottleneck features\n",
    "    predicted_vector = doggy_model.predict(bottleneck_feature)\n",
    "    # return dog breed that is predicted by the model\n",
    "    return dog_names[np.argmax(predicted_vector)]"
   ]
  },
  {
   "cell_type": "code",
   "execution_count": 7,
   "metadata": {},
   "outputs": [],
   "source": [
    "import cv2\n",
    "\n",
    "face_cascade = cv2.CascadeClassifier('./haarcascades/haarcascade_frontalface_alt.xml')\n",
    "# function to use pre-trained face detector and return true if human faces are in image\n",
    "def face_detector(img_path):\n",
    "    img = cv2.imread(img_path)\n",
    "    gray = cv2.cvtColor(img, cv2.COLOR_BGR2GRAY)\n",
    "    faces = face_cascade.detectMultiScale(gray)\n",
    "    return len(faces) > 0"
   ]
  },
  {
   "cell_type": "code",
   "execution_count": 8,
   "metadata": {},
   "outputs": [],
   "source": [
    "# function that takes an image and returns the dog breed. \n",
    "def what_breed(img_path):\n",
    "    # determine whether there a human in the picture\n",
    "    human = face_detector(img_path)\n",
    "    if human:\n",
    "        return doggy_predict_breed(img_path)\n",
    "    else:\n",
    "        return False"
   ]
  },
  {
   "cell_type": "code",
   "execution_count": null,
   "metadata": {},
   "outputs": [],
   "source": [
    "import random\n",
    "import os\n",
    "\n",
    "# start video capture from camera\n",
    "cap = cv2.VideoCapture(0)\n",
    "\n",
    "while(True):\n",
    "    # read and rescale frames from camera\n",
    "    ret, frame = cap.read()\n",
    "    rgb = cv2.cvtColor(frame, cv2.COLOR_BGR2BGRA)\n",
    "    rgb_scaled = cv2.resize(rgb, (720, 450))\n",
    "    # display images from camera in a new window\n",
    "    cv2.namedWindow('Press SPACE to take a picture', cv2.WINDOW_NORMAL)\n",
    "    cv2.imshow('Press SPACE to take a picture', rgb_scaled)\n",
    "    # wait for a keypress\n",
    "    keypress = cv2.waitKey(1)\n",
    "    # if key press is SPACE process the image\n",
    "    if keypress & 0xFF == ord(' '):\n",
    "        # display captured image in new window\n",
    "        cv2.namedWindow('This is you', cv2.WINDOW_NORMAL)\n",
    "        cv2.imshow('This is you', rgb_scaled)\n",
    "        # save image\n",
    "        out = cv2.imwrite('capture.jpg', frame)\n",
    "        # use saved image for predicting dog breed\n",
    "        breed = what_breed('capture.jpg')\n",
    "        # delete saved image\n",
    "        os.remove(\"capture.jpg\")\n",
    "        # font for text overlay\n",
    "        font = cv2.FONT_HERSHEY_SIMPLEX \n",
    "        # org for text overlay\n",
    "        org = (50, 50) \n",
    "        # fontScale for text overlay\n",
    "        fontScale = 1\n",
    "        # red color in BGR for text overlay\n",
    "        color = (0, 0, 255) \n",
    "        # line thickness of 2 px for text overlay\n",
    "        thickness = 2\n",
    "        if breed:\n",
    "            # select a random pick of that breed\n",
    "            file = random.choice(os.listdir(breed))\n",
    "            #load and resize the dog pic\n",
    "            dog_pic = cv2.imread(f'{breed}/{file}')\n",
    "            dog_pic = cv2.resize(dog_pic, (720, 450))\n",
    "            # overlay breed on dog pic\n",
    "            show_breed = cv2.putText(dog_pic, breed.split('.')[2][:-1], org, font, fontScale, color, thickness, cv2.LINE_AA)\n",
    "            # display dog pic and breed in a new window\n",
    "            cv2.namedWindow('You look like a...', cv2.WINDOW_NORMAL)\n",
    "            cv2.imshow('You look like a...', show_breed) \n",
    "        else:\n",
    "            # overlay message on human pic\n",
    "            show_error = cv2.putText(rgb_scaled, \"No humans detected.  Let's try another picture.\", org, font, fontScale, color, thickness, cv2.LINE_AA)\n",
    "            # display dog pic and breed in a new window\n",
    "            cv2.imshow('This is you', show_error) \n",
    "    \n",
    "    # if keypress is q close windows and exit the loop\n",
    "    if keypress & 0xFF == ord('q'):\n",
    "        cv2.destroyAllWindows()\n",
    "        break\n",
    "    \n",
    "    "
   ]
  },
  {
   "cell_type": "code",
   "execution_count": null,
   "metadata": {},
   "outputs": [],
   "source": []
  }
 ],
 "metadata": {
  "kernelspec": {
   "display_name": "Python 3",
   "language": "python",
   "name": "python3"
  },
  "language_info": {
   "codemirror_mode": {
    "name": "ipython",
    "version": 3
   },
   "file_extension": ".py",
   "mimetype": "text/x-python",
   "name": "python",
   "nbconvert_exporter": "python",
   "pygments_lexer": "ipython3",
   "version": "3.7.5"
  }
 },
 "nbformat": 4,
 "nbformat_minor": 2
}
